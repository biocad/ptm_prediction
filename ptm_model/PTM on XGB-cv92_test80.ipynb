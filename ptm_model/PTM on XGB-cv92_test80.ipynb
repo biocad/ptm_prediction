{
 "cells": [
  {
   "cell_type": "code",
   "execution_count": 2,
   "metadata": {
    "collapsed": false
   },
   "outputs": [],
   "source": [
    "import numpy as np\n",
    "import pandas as pd\n",
    "import xgboost as xgb\n",
    "from sklearn.cross_validation import KFold, LabelKFold\n",
    "from sklearn.cross_validation import LabelShuffleSplit\n",
    "from sklearn.grid_search import GridSearchCV\n",
    "from sklearn.cross_validation import train_test_split\n",
    "from sklearn.metrics import roc_auc_score, roc_curve, auc"
   ]
  },
  {
   "cell_type": "code",
   "execution_count": 40,
   "metadata": {
    "collapsed": true
   },
   "outputs": [],
   "source": [
    "random_state = 42"
   ]
  },
  {
   "cell_type": "code",
   "execution_count": 41,
   "metadata": {
    "collapsed": false,
    "scrolled": true
   },
   "outputs": [],
   "source": [
    "df = pd.read_csv(\"data_encoded.csv\")\n",
    "data_x = df.drop([\"status\", \"filename\"], 1).values\n",
    "data_y = df.status.values\n",
    "labels = df[\"filename\"].values\n",
    "# train_x, train_y, test_x, test_y, train_labels, test_labels\n",
    "train_labels, test_labels = list(LabelShuffleSplit(labels, n_iter=1, train_size=0.75, random_state=random_state))[0]\n",
    "train_x = data_x[train_labels]\n",
    "train_y = data_y[train_labels]\n",
    "test_x = data_x[test_labels]\n",
    "test_y = data_y[test_labels]\n",
    "cv_train = LabelKFold(train_labels, n_folds=10)"
   ]
  },
  {
   "cell_type": "code",
   "execution_count": 42,
   "metadata": {
    "collapsed": true
   },
   "outputs": [],
   "source": [
    "# define the preprocessing function\n",
    "# used to return the preprocessed training, test data, and parameter\n",
    "# we can use this to do weight rescale, etc.\n",
    "# as a example, we try to set scale_pos_weight\n",
    "def fpreproc(dtrain, dtest, param):\n",
    "    label = dtrain.get_label()\n",
    "    ratio = float(np.sum(label == 0)) / np.sum(label == 1)\n",
    "    param['scale_pos_weight'] = ratio\n",
    "    return (dtrain, dtest, param)"
   ]
  },
  {
   "cell_type": "code",
   "execution_count": 1,
   "metadata": {
    "collapsed": false
   },
   "outputs": [
    {
     "ename": "NameError",
     "evalue": "name 'xgb' is not defined",
     "output_type": "error",
     "traceback": [
      "\u001b[1;31m---------------------------------------------------------------------------\u001b[0m",
      "\u001b[1;31mNameError\u001b[0m                                 Traceback (most recent call last)",
      "\u001b[1;32m<ipython-input-1-93d65e6c1805>\u001b[0m in \u001b[0;36m<module>\u001b[1;34m()\u001b[0m\n\u001b[1;32m----> 1\u001b[1;33m estimator = xgb.XGBClassifier(\n\u001b[0m\u001b[0;32m      2\u001b[0m     \u001b[0mobjective\u001b[0m\u001b[1;33m=\u001b[0m\u001b[1;34m'binary:logistic'\u001b[0m\u001b[1;33m,\u001b[0m\u001b[1;33m\u001b[0m\u001b[0m\n\u001b[0;32m      3\u001b[0m     \u001b[0mseed\u001b[0m\u001b[1;33m=\u001b[0m\u001b[1;36m42\u001b[0m\u001b[1;33m,\u001b[0m\u001b[1;33m\u001b[0m\u001b[0m\n\u001b[0;32m      4\u001b[0m     \u001b[0mmissing\u001b[0m\u001b[1;33m=\u001b[0m\u001b[0mnp\u001b[0m\u001b[1;33m.\u001b[0m\u001b[0mnan\u001b[0m\u001b[1;33m,\u001b[0m\u001b[1;33m\u001b[0m\u001b[0m\n\u001b[0;32m      5\u001b[0m     \u001b[0mnthread\u001b[0m\u001b[1;33m=\u001b[0m\u001b[1;36m1\u001b[0m\u001b[1;33m,\u001b[0m\u001b[1;33m\u001b[0m\u001b[0m\n",
      "\u001b[1;31mNameError\u001b[0m: name 'xgb' is not defined"
     ]
    }
   ],
   "source": [
    "estimator = xgb.XGBClassifier(\n",
    "    objective='binary:logistic',\n",
    "    seed=42,\n",
    "    missing=np.nan,\n",
    "    nthread=1,\n",
    "    reg_alpha=0.5,\n",
    "    reg_lambda=5\n",
    ")\n",
    "\n",
    "\n",
    "param_grid = {\n",
    "    'max_depth':range(6,12,2),\n",
    "    'learning_rate': [0.05, 0.1, 0.2],\n",
    "    'n_estimators': [300, 700, 1000],\n",
    "    \"colsample_bytree\": [0.5, 0.8, 1],\n",
    "    \"subsample\": [0.5, 0.8, 1],\n",
    "}\n",
    "\n",
    "gsearch = GridSearchCV(estimator=estimator,\n",
    "                       param_grid=param_grid,\n",
    "                       scoring='roc_auc',\n",
    "                       n_jobs=48,\n",
    "                       iid=False,\n",
    "                       cv=cv_train,\n",
    "                       verbose=1\n",
    "                      )"
   ]
  },
  {
   "cell_type": "code",
   "execution_count": 44,
   "metadata": {
    "collapsed": false
   },
   "outputs": [
    {
     "name": "stdout",
     "output_type": "stream",
     "text": [
      "Fitting 10 folds for each of 243 candidates, totalling 2430 fits\n"
     ]
    },
    {
     "name": "stderr",
     "output_type": "stream",
     "text": [
      "[Parallel(n_jobs=48)]: Done 104 tasks      | elapsed:    6.3s\n",
      "[Parallel(n_jobs=48)]: Done 354 tasks      | elapsed:   17.9s\n",
      "[Parallel(n_jobs=48)]: Done 704 tasks      | elapsed:   29.9s\n",
      "[Parallel(n_jobs=48)]: Done 1154 tasks      | elapsed:   58.5s\n",
      "[Parallel(n_jobs=48)]: Done 1704 tasks      | elapsed:  1.5min\n",
      "[Parallel(n_jobs=48)]: Done 2430 out of 2430 | elapsed:  2.4min finished\n"
     ]
    }
   ],
   "source": [
    "result_train = gsearch.fit(train_x, train_y)"
   ]
  },
  {
   "cell_type": "code",
   "execution_count": 45,
   "metadata": {
    "collapsed": false
   },
   "outputs": [
    {
     "name": "stdout",
     "output_type": "stream",
     "text": [
      "{'n_estimators': 300, 'subsample': 1, 'learning_rate': 0.05, 'colsample_bytree': 0.5, 'max_depth': 6}\n",
      "0.923497650174\n"
     ]
    }
   ],
   "source": [
    "print gsearch.best_params_\n",
    "print gsearch.best_score_"
   ]
  },
  {
   "cell_type": "code",
   "execution_count": 46,
   "metadata": {
    "collapsed": false
   },
   "outputs": [
    {
     "name": "stdout",
     "output_type": "stream",
     "text": [
      "Accuracy: 0.804347826087\n",
      "ROC score: 0.6236481615\n"
     ]
    }
   ],
   "source": [
    "from sklearn.metrics import accuracy_score\n",
    "train_params = gsearch.best_params_\n",
    "est_train = gsearch.best_estimator_\n",
    "y_pred = est_train.predict(test_x)\n",
    "roc_auc = roc_auc_score(test_y, y_pred)\n",
    "accuracy = accuracy_score(test_y, y_pred)\n",
    "print(\"Accuracy: \" + str(accuracy))\n",
    "print(\"ROC score: \" + str(roc_auc))"
   ]
  },
  {
   "cell_type": "code",
   "execution_count": 47,
   "metadata": {
    "collapsed": false
   },
   "outputs": [
    {
     "name": "stdout",
     "output_type": "stream",
     "text": [
      "Fitting 10 folds for each of 243 candidates, totalling 2430 fits\n"
     ]
    },
    {
     "name": "stderr",
     "output_type": "stream",
     "text": [
      "[Parallel(n_jobs=48)]: Done 104 tasks      | elapsed:    8.0s\n",
      "[Parallel(n_jobs=48)]: Done 354 tasks      | elapsed:   24.3s\n",
      "[Parallel(n_jobs=48)]: Done 704 tasks      | elapsed:   40.7s\n",
      "[Parallel(n_jobs=48)]: Done 1154 tasks      | elapsed:  1.3min\n",
      "[Parallel(n_jobs=48)]: Done 1704 tasks      | elapsed:  2.0min\n",
      "[Parallel(n_jobs=48)]: Done 2430 out of 2430 | elapsed:  3.2min finished\n"
     ]
    }
   ],
   "source": [
    "cv_data = LabelKFold(labels, n_folds=10)\n",
    "gsearch.cv = cv_data\n",
    "result_all = gsearch.fit(data_x, data_y)\n"
   ]
  },
  {
   "cell_type": "code",
   "execution_count": 48,
   "metadata": {
    "collapsed": false
   },
   "outputs": [
    {
     "name": "stdout",
     "output_type": "stream",
     "text": [
      "{'n_estimators': 300, 'subsample': 0.8, 'learning_rate': 0.2, 'colsample_bytree': 0.8, 'max_depth': 6}\n",
      "0.804133855075\n"
     ]
    }
   ],
   "source": [
    "print gsearch.best_params_\n",
    "print gsearch.best_score_"
   ]
  },
  {
   "cell_type": "code",
   "execution_count": null,
   "metadata": {
    "collapsed": true
   },
   "outputs": [],
   "source": []
  }
 ],
 "metadata": {
  "kernelspec": {
   "display_name": "Python 2",
   "language": "python",
   "name": "python2"
  },
  "language_info": {
   "codemirror_mode": {
    "name": "ipython",
    "version": 2
   },
   "file_extension": ".py",
   "mimetype": "text/x-python",
   "name": "python",
   "nbconvert_exporter": "python",
   "pygments_lexer": "ipython2",
   "version": "2.7.6"
  }
 },
 "nbformat": 4,
 "nbformat_minor": 0
}
